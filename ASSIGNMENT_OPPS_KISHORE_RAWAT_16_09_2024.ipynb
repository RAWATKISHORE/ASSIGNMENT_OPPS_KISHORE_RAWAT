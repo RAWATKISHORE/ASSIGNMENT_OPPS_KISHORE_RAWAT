{
  "nbformat": 4,
  "nbformat_minor": 0,
  "metadata": {
    "colab": {
      "provenance": []
    },
    "kernelspec": {
      "name": "python3",
      "display_name": "Python 3"
    },
    "language_info": {
      "name": "python"
    }
  },
  "cells": [
    {
      "cell_type": "markdown",
      "source": [
        "#ASSIGNMENT OPPS- KISHORE RAWAT"
      ],
      "metadata": {
        "id": "6jIEricbgxLS"
      }
    },
    {
      "cell_type": "markdown",
      "source": [
        "##Q1. What are the five key concepts of Object-Oriented Programming (OOP)?"
      ],
      "metadata": {
        "id": "O-GaMYNAgxDq"
      }
    },
    {
      "cell_type": "markdown",
      "source": [
        "##Ans. The five key concepts of Object-Oriented Programming (OOP) are:\n",
        "\n",
        "##1. Classes: A class is a blueprint for creating objects. It defines the attributes and behaviors that the objects created from the class will have.\n",
        "\n",
        "##2. Objects: An object is an instance of a class. It represents a specific implementation of the class with actual data and can invoke methods defined by the class.\n",
        "\n",
        "##3. Encapsulation: Encapsulation is the bundling of data (attributes) and methods (functions) that operate on the data into a single unit or class. It restricts direct access to some of the object’s components, which helps in protecting the object’s integrity by preventing unauthorized or unintended interference.\n",
        "\n",
        "##4. Inheritance: Inheritance allows a new class (child class or subclass) to inherit attributes and methods from an existing class (parent class or superclass). This promotes code reuse and the creation of a hierarchical relationship between classes.\n",
        "\n",
        "##5. Polymorphism: Polymorphism enables objects of different classes to be treated as objects of a common superclass. It allows for methods to be used interchangeably and for one interface to be used for a general class of actions, with the specific action determined by the exact type of object that is performing it."
      ],
      "metadata": {
        "id": "Lfwt5qKWgw8a"
      }
    },
    {
      "cell_type": "markdown",
      "source": [
        "------------------------------------------------------------------------------------------------------------------------------"
      ],
      "metadata": {
        "id": "yIA2hdS5jVqY"
      }
    },
    {
      "cell_type": "markdown",
      "source": [
        "##Q2. Write a Python class for a 'Car' with attributes for 'make', 'model' and 'year'. Include a method to display the car's information."
      ],
      "metadata": {
        "id": "hzBlNNaojVgq"
      }
    },
    {
      "cell_type": "markdown",
      "source": [
        "##Ans. Here’s a Python class for a Car with attributes for make, model, and year, along with a method to display the car’s information:"
      ],
      "metadata": {
        "id": "7eXhWUi1jVXa"
      }
    },
    {
      "cell_type": "code",
      "source": [
        "class Car:\n",
        "    def __init__(self, make, model, year):\n",
        "        self.make = make\n",
        "        self.model = model\n",
        "        self.year = year\n",
        "\n",
        "    def display_info(self):\n",
        "        print(f\"Car Information: {self.year} {self.make} {self.model}\")\n",
        "\n",
        "# Example:-\n",
        "my_car = Car(\"Toyota\", \"Camry\", 2022)\n",
        "my_car.display_info()"
      ],
      "metadata": {
        "colab": {
          "base_uri": "https://localhost:8080/"
        },
        "id": "UFKWdUFNmJLt",
        "outputId": "b0901213-8c79-47e7-c00e-411c22f9bf43"
      },
      "execution_count": null,
      "outputs": [
        {
          "output_type": "stream",
          "name": "stdout",
          "text": [
            "Car Information: 2022 Toyota Camry\n"
          ]
        }
      ]
    },
    {
      "cell_type": "markdown",
      "source": [
        "----------------------------------------------------------------------------------------------------------------------------------"
      ],
      "metadata": {
        "id": "oeiM5C2an4Cy"
      }
    },
    {
      "cell_type": "markdown",
      "source": [
        "##Q3. Explain the difference between instance methods and class methods. Provide an example of each."
      ],
      "metadata": {
        "id": "PFOuEkGQn34z"
      }
    },
    {
      "cell_type": "markdown",
      "source": [
        "##Ans. Difference Between Instance Methods and Class Methods:\n",
        "\n",
        "##1. Instance Methods:\n",
        "\n",
        "##* Definition: These are the most common type of methods in a class. They require an instance of the class to be called and can access and modify instance-specific data (i.e., data stored in instance attributes).\n",
        "\n",
        "##* Access: They have access to the instance (self) and can read and modify the object’s attributes.\n",
        "\n",
        "##* Usage: Use instance methods when you need to perform actions on specific objects.\n",
        "\n",
        "\n",
        "##2. Class Methods:\n",
        "\n",
        "##* Definition: Class methods are bound to the class, not the instance. They can be called on the class itself, and they operate on class-level data. Class methods are marked with the @classmethod decorator.\n",
        "\n",
        "##* Access: They take cls as the first parameter (instead of self), which refers to the class itself, not an instance.\n",
        "\n",
        "##* Usage: Use class methods when you need to perform actions that pertain to the class as a whole, rather than a specific instance.\n",
        "\n",
        "\n",
        "##Example of Each:"
      ],
      "metadata": {
        "id": "xdheDSkRn3uA"
      }
    },
    {
      "cell_type": "code",
      "source": [
        "class Car:\n",
        "    # Class attribute\n",
        "    number_of_wheels = 6\n",
        "\n",
        "    def __init__(self, make, model, year):\n",
        "        self.make = make\n",
        "        self.model = model\n",
        "        self.year = year\n",
        "\n",
        "    # Instance method\n",
        "    def display_info(self):\n",
        "        print(f\"Car Information: {self.year} {self.make} {self.model}\")\n",
        "\n",
        "    # Class method\n",
        "    @classmethod\n",
        "    def set_number_of_wheels(cls, wheels):\n",
        "        cls.number_of_wheels = wheels\n",
        "\n",
        "# Example usage\n",
        "# Instance method\n",
        "my_car = Car(\"Toyota\", \"Camry\", 2022)\n",
        "my_car.display_info()  # Calls instance method\n",
        "\n",
        "# Class method\n",
        "Car.set_number_of_wheels(8)\n",
        "print(Car.number_of_wheels)"
      ],
      "metadata": {
        "colab": {
          "base_uri": "https://localhost:8080/"
        },
        "id": "p5trYT_kmzp9",
        "outputId": "b98f50c7-c40e-458d-dbe7-69d7bc2c3774"
      },
      "execution_count": null,
      "outputs": [
        {
          "output_type": "stream",
          "name": "stdout",
          "text": [
            "Car Information: 2022 Toyota Camry\n",
            "8\n"
          ]
        }
      ]
    },
    {
      "cell_type": "markdown",
      "source": [
        "-----------------------------------------------------------------------------------------------------------------------------"
      ],
      "metadata": {
        "id": "5Tzr-sgKsYap"
      }
    },
    {
      "cell_type": "markdown",
      "source": [
        "##Q4. How does Python implement method overloading? Give an example."
      ],
      "metadata": {
        "id": "XUKmi_p5sYSc"
      }
    },
    {
      "cell_type": "markdown",
      "source": [
        "##Ans. Method Overloading in Python\n",
        "\n",
        "##In many programming languages, method overloading allows multiple methods with the same name but different parameters to coexist in a class. However, Python does not support traditional method overloading like some other languages (e.g., Java or C++).\n",
        "\n",
        "##In Python, if you define multiple methods with the same name, the latest definition will overwrite the previous ones. Instead, Python achieves similar behavior using default arguments, variable-length argument lists, or by manually checking the types or number of arguments within a method.\n",
        "\n",
        "##Example Using Default Arguments:"
      ],
      "metadata": {
        "id": "zS8Btr-ssYKP"
      }
    },
    {
      "cell_type": "code",
      "source": [
        "class Calculator:\n",
        "    def add(self, a, b=0, c=0):\n",
        "        return a + b + c\n",
        "\n",
        "# Example:-\n",
        "calc = Calculator()\n",
        "\n",
        "print(calc.add(5))\n",
        "print(calc.add(5, 10))\n",
        "print(calc.add(5, 10, 15))"
      ],
      "metadata": {
        "colab": {
          "base_uri": "https://localhost:8080/"
        },
        "id": "va4x81uSqdYB",
        "outputId": "362d4d70-b361-4089-d43e-37c74201ac83"
      },
      "execution_count": null,
      "outputs": [
        {
          "output_type": "stream",
          "name": "stdout",
          "text": [
            "5\n",
            "15\n",
            "30\n"
          ]
        }
      ]
    },
    {
      "cell_type": "markdown",
      "source": [
        "##Example Using Variable-Length Arguments:"
      ],
      "metadata": {
        "id": "I9Nbpwn5tTHV"
      }
    },
    {
      "cell_type": "code",
      "source": [
        "class Calculator:\n",
        "    def add(self, *args):\n",
        "        return sum(args)\n",
        "\n",
        "# Example usage\n",
        "calc = Calculator()\n",
        "\n",
        "print(calc.add(5))\n",
        "print(calc.add(5, 10))\n",
        "print(calc.add(5, 10, 15, 20))"
      ],
      "metadata": {
        "colab": {
          "base_uri": "https://localhost:8080/"
        },
        "id": "l2sglWlztER3",
        "outputId": "b44d1bae-3c87-454a-eea8-02fcd7c6b09f"
      },
      "execution_count": null,
      "outputs": [
        {
          "output_type": "stream",
          "name": "stdout",
          "text": [
            "5\n",
            "15\n",
            "50\n"
          ]
        }
      ]
    },
    {
      "cell_type": "markdown",
      "source": [
        "------------------------------------------------------------------------------------------------------------------------------------------------"
      ],
      "metadata": {
        "id": "m3sXW0PHItFq"
      }
    },
    {
      "cell_type": "markdown",
      "source": [
        "##Q5. What are the three types of access modifiers in Python? How are they denoted?"
      ],
      "metadata": {
        "id": "c8ODPgKVIs9Y"
      }
    },
    {
      "cell_type": "markdown",
      "source": [
        "##Ans. In Python, access modifiers control the accessibility of class members (attributes and methods). Python provides three types of access modifiers: public, protected, and private. Unlike some other languages, Python does not strictly enforce these access levels but provides a naming convention to indicate them.\n",
        "\n",
        "##1. Public:\n",
        "\n",
        "##* Description: Public members are accessible from anywhere, both inside and outside the class.\n",
        "\n",
        "##* Denotation: No special prefix. All class members are public by default.\n",
        "\n",
        "##Example:-"
      ],
      "metadata": {
        "id": "jzK6UcSpIs0m"
      }
    },
    {
      "cell_type": "code",
      "source": [
        "class car:\n",
        "    def __init__(self, make, model):\n",
        "        self.make = make\n",
        "        self.model = model\n",
        "\n",
        "car = car(\"Toyota\", \"Camry\")\n",
        "print(car.make)\n",
        "print(car.model)"
      ],
      "metadata": {
        "colab": {
          "base_uri": "https://localhost:8080/"
        },
        "id": "Tzt73j-AJKxj",
        "outputId": "e1b6e105-d861-4d77-fb09-c56e4e4b767f"
      },
      "execution_count": 1,
      "outputs": [
        {
          "output_type": "stream",
          "name": "stdout",
          "text": [
            "Toyota\n",
            "Camry\n"
          ]
        }
      ]
    },
    {
      "cell_type": "markdown",
      "source": [
        "##2. Protected:\n",
        "\n",
        "##* Description: Protected members are intended to be accessible within the class and its subclasses. However, Python doesn't enforce this strictly; they can still be accessed outside the class, but it is discouraged.\n",
        "\n",
        "##* Denotation: A single underscore _ prefix (e.g., _attribute).\n",
        "\n",
        "##Example:-"
      ],
      "metadata": {
        "id": "Syqic0O4JsBh"
      }
    },
    {
      "cell_type": "code",
      "source": [
        "class car:\n",
        "    def __init__(self, make, model):\n",
        "        self._make = make\n",
        "        self._model = model\n",
        "\n",
        "car = car(\"Toyota\", \"Camry\")\n",
        "print(car._make)\n",
        "print(car._model) # Technically accessible, but discouraged"
      ],
      "metadata": {
        "colab": {
          "base_uri": "https://localhost:8080/"
        },
        "id": "_rt1BzlIJbX2",
        "outputId": "43bf80ee-d7d9-4c66-fa63-0c12236cda7d"
      },
      "execution_count": 2,
      "outputs": [
        {
          "output_type": "stream",
          "name": "stdout",
          "text": [
            "Toyota\n",
            "Camry\n"
          ]
        }
      ]
    },
    {
      "cell_type": "markdown",
      "source": [
        "##3. Private:\n",
        "\n",
        "##* Description: Private members are meant to be accessible only within the class. They are not directly accessible from outside the class or from subclasses. Python achieves this through name mangling, where the private attributes are renamed internally.\n",
        "\n",
        "##* Denotation: A double underscore __ prefix (e.g., __attribute).\n",
        "\n",
        "##Example:-"
      ],
      "metadata": {
        "id": "gW-JUv3fKydy"
      }
    },
    {
      "cell_type": "code",
      "source": [
        "class car:\n",
        "    def __init__(self, make, model):\n",
        "        self.__make = make\n",
        "        self.__model = model\n",
        "\n",
        "    def get_make(self):\n",
        "        return self.__make\n",
        "\n",
        "car = car(\"Toyota\", \"Camry\")\n",
        "print(car._car__make)   # Raises AttributeError: 'Car' object has no attribute '__make'\n",
        "print(car._car__model)  # Accessible through a method: Outputs 'Toyota'"
      ],
      "metadata": {
        "colab": {
          "base_uri": "https://localhost:8080/"
        },
        "id": "JGLp7a9nKjhr",
        "outputId": "a89d8a5f-c601-4c69-e2b2-9d53115746d8"
      },
      "execution_count": 5,
      "outputs": [
        {
          "output_type": "stream",
          "name": "stdout",
          "text": [
            "Toyota\n",
            "Camry\n"
          ]
        }
      ]
    },
    {
      "cell_type": "markdown",
      "source": [
        "--------------------------------------------------------------------------------------------------------------------------------------------------"
      ],
      "metadata": {
        "id": "yMgTJnSzLbI_"
      }
    },
    {
      "cell_type": "markdown",
      "source": [
        "##Q6. Describe the five types of inheritance in Python. Provide a simple example of multiple inheritance."
      ],
      "metadata": {
        "id": "8-I3QLXhLbAr"
      }
    },
    {
      "cell_type": "markdown",
      "source": [
        "##Ans. Five Types of Inheritance in Python:-\n",
        "\n",
        "##1. Single Inheritance:\n",
        "\n",
        "##* A class inherits from one parent class.\n",
        "\n",
        "##Example:-"
      ],
      "metadata": {
        "id": "HafhQY36La4d"
      }
    },
    {
      "cell_type": "code",
      "source": [
        "class Animal:\n",
        "    def speak(self):\n",
        "        print(\"Animal speaks\")\n",
        "\n",
        "class Dog(Animal):\n",
        "    def bark(self):\n",
        "        print(\"Dog barks\")\n",
        "\n",
        "dog = Dog()\n",
        "dog.speak()\n",
        "dog.bark()"
      ],
      "metadata": {
        "colab": {
          "base_uri": "https://localhost:8080/"
        },
        "id": "OWJ96vBdLFMp",
        "outputId": "6b6f4e33-fc4d-4524-e897-207309317afc"
      },
      "execution_count": 6,
      "outputs": [
        {
          "output_type": "stream",
          "name": "stdout",
          "text": [
            "Animal speaks\n",
            "Dog barks\n"
          ]
        }
      ]
    },
    {
      "cell_type": "markdown",
      "source": [
        "##2. Multiple Inheritance:\n",
        "\n",
        "##* A class inherits from more than one parent class.\n",
        "\n",
        "##Example:-"
      ],
      "metadata": {
        "id": "DKpYDODlMgE-"
      }
    },
    {
      "cell_type": "code",
      "source": [
        "class Animal:\n",
        "    def speak(self):\n",
        "        print(\"Animal speaks\")\n",
        "\n",
        "class Mammal:\n",
        "    def run(self):\n",
        "        print(\"Mammal runs\")\n",
        "\n",
        "class Dog(Animal, Mammal):\n",
        "    def bark(self):\n",
        "        print(\"Dog barks\")\n",
        "\n",
        "dog = Dog()\n",
        "dog.speak()\n",
        "dog.run()\n",
        "dog.bark()"
      ],
      "metadata": {
        "colab": {
          "base_uri": "https://localhost:8080/"
        },
        "id": "P8JlXiS7MAs3",
        "outputId": "93af95c3-4fd2-480e-b272-6816487b35cf"
      },
      "execution_count": 7,
      "outputs": [
        {
          "output_type": "stream",
          "name": "stdout",
          "text": [
            "Animal speaks\n",
            "Mammal runs\n",
            "Dog barks\n"
          ]
        }
      ]
    },
    {
      "cell_type": "markdown",
      "source": [
        "##3. Multilevel Inheritance:\n",
        "\n",
        "##* A class inherits from a parent class, and another class inherits from that child class (i.e., a chain of inheritance).\n",
        "\n",
        "##Example:-"
      ],
      "metadata": {
        "id": "mEqRh5JHM7pb"
      }
    },
    {
      "cell_type": "code",
      "source": [
        "class Animal:\n",
        "    def speak(self):\n",
        "        print(\"Animal speaks\")\n",
        "\n",
        "class Mammal(Animal):\n",
        "    def run(self):\n",
        "        print(\"Mammal runs\")\n",
        "\n",
        "class Dog(Mammal):\n",
        "    def bark(self):\n",
        "        print(\"Dog barks\")\n",
        "\n",
        "dog = Dog()\n",
        "dog.speak()\n",
        "dog.run()\n",
        "dog.bark()"
      ],
      "metadata": {
        "colab": {
          "base_uri": "https://localhost:8080/"
        },
        "id": "fJi3-KS1MsPS",
        "outputId": "e5dc6ca6-e468-4597-87cb-a18ffc70f43e"
      },
      "execution_count": 9,
      "outputs": [
        {
          "output_type": "stream",
          "name": "stdout",
          "text": [
            "Animal speaks\n",
            "Mammal runs\n",
            "Dog barks\n"
          ]
        }
      ]
    },
    {
      "cell_type": "markdown",
      "source": [
        "##4. Hierarchical Inheritance:\n",
        "\n",
        "##* Multiple classes inherit from a single parent class.\n",
        "\n",
        "##Example:-"
      ],
      "metadata": {
        "id": "5QDU08t0NkHg"
      }
    },
    {
      "cell_type": "code",
      "source": [
        "class Animal:\n",
        "    def speak(self):\n",
        "        print(\"Animal speaks\")\n",
        "\n",
        "class Dog(Animal):\n",
        "    def bark(self):\n",
        "        print(\"Dog barks\")\n",
        "\n",
        "class Cat(Animal):\n",
        "    def meow(self):\n",
        "        print(\"Cat meows\")\n",
        "\n",
        "dog = Dog()\n",
        "cat = Cat()\n",
        "dog.speak()\n",
        "cat.speak()\n",
        ""
      ],
      "metadata": {
        "colab": {
          "base_uri": "https://localhost:8080/"
        },
        "id": "5s27cFgfNNj1",
        "outputId": "1ed2f8ca-f2d1-4c6d-9a1d-15bf9c71396a"
      },
      "execution_count": 13,
      "outputs": [
        {
          "output_type": "stream",
          "name": "stdout",
          "text": [
            "Animal speaks\n",
            "Animal speaks\n"
          ]
        }
      ]
    },
    {
      "cell_type": "markdown",
      "source": [
        "##5. Hybrid Inheritance:\n",
        "\n",
        "##* A combination of two or more types of inheritance. It may involve multiple and multilevel inheritance in the same class hierarchy.\n",
        "\n",
        "##Example:-"
      ],
      "metadata": {
        "id": "FVRib1RfOGqI"
      }
    },
    {
      "cell_type": "code",
      "source": [
        "class Animal:\n",
        "    def speak(self):\n",
        "        print(\"Animal speaks\")\n",
        "\n",
        "class Mammal(Animal):\n",
        "    def run(self):\n",
        "        print(\"Mammal runs\")\n",
        "\n",
        "class Bird(Animal):\n",
        "    def fly(self):\n",
        "        print(\"Bird flies\")\n",
        "\n",
        "class Bat(Mammal, Bird):\n",
        "    def sting(self):\n",
        "        print(\"Bat stings\")\n",
        "\n",
        "bat = Bat()\n",
        "bat.speak()\n",
        "bat.run()\n",
        "bat.fly()\n",
        "bat.sting()"
      ],
      "metadata": {
        "colab": {
          "base_uri": "https://localhost:8080/"
        },
        "id": "TnMAmV3gNzBD",
        "outputId": "00ed5975-e635-4880-99ec-c555bab76eb5"
      },
      "execution_count": 17,
      "outputs": [
        {
          "output_type": "stream",
          "name": "stdout",
          "text": [
            "Animal speaks\n",
            "Mammal runs\n",
            "Bird flies\n",
            "Bat stings\n"
          ]
        }
      ]
    },
    {
      "cell_type": "markdown",
      "source": [
        "##Example of Multiple Inheritance:-"
      ],
      "metadata": {
        "id": "Gz6o6cX7PTsK"
      }
    },
    {
      "cell_type": "code",
      "source": [
        "class Person:\n",
        "    def work(self):\n",
        "        return \"Person is working\"\n",
        "\n",
        "class Dancer:\n",
        "    def dance(self):\n",
        "        return \"Dancer is dancing\"\n",
        "\n",
        "class Employee(Person, Dancer):\n",
        "    def perform(self):\n",
        "        return \"Employee is performing duties\"\n",
        "\n",
        "# Example:-\n",
        "employee = Employee()\n",
        "print(employee.work())\n",
        "print(employee.dance())\n",
        "print(employee.perform())"
      ],
      "metadata": {
        "colab": {
          "base_uri": "https://localhost:8080/"
        },
        "id": "6wRVSOELPTOa",
        "outputId": "b13693f0-63f3-4739-8ea5-abc5422b6c57"
      },
      "execution_count": 19,
      "outputs": [
        {
          "output_type": "stream",
          "name": "stdout",
          "text": [
            "Person is working\n",
            "Dancer is dancing\n",
            "Employee is performing duties\n"
          ]
        }
      ]
    },
    {
      "cell_type": "markdown",
      "source": [
        "-------------------------------------------------------------------------------------------------------------------------------------------------"
      ],
      "metadata": {
        "id": "w3UDg3hXPAQn"
      }
    },
    {
      "cell_type": "markdown",
      "source": [
        "##Q7. What is the Method Resolution Order (MRO) in Python? How can you retrieve it programmatically?"
      ],
      "metadata": {
        "id": "rUg5qDN1PAIE"
      }
    },
    {
      "cell_type": "markdown",
      "source": [
        "##Ans. Method Resolution Order (MRO) in Python\n",
        "\n",
        "##The Method Resolution Order (MRO) determines the order in which base classes are searched when executing a method in the presence of multiple inheritance. Python uses the C3 linearization algorithm (also called C3 superclass linearization) to determine the MRO.\n",
        "\n",
        "##The MRO ensures that:-\n",
        "\n",
        "##* A class is always checked before its parent classes.\n",
        "\n",
        "##* When multiple classes are inherited, the method from the leftmost class in the inheritance list is chosen.\n",
        "\n",
        "##* It respects the inheritance hierarchy and avoids redundant lookups.\n",
        "\n",
        "##* MRO is crucial in resolving potential conflicts when classes in a hierarchy share methods with the same name.\n",
        "\n",
        "## Retrieving MRO Programmatically\n",
        "##You can retrieve the MRO of a class using:\n",
        "\n",
        "##1. The __mro__ attribute.\n",
        "##2. The mro() method.\n",
        "\n",
        "##Example:-"
      ],
      "metadata": {
        "id": "TECjjPYVPAAN"
      }
    },
    {
      "cell_type": "code",
      "source": [
        "class A:\n",
        "    pass\n",
        "\n",
        "class B(A):\n",
        "    pass\n",
        "\n",
        "class C(A):\n",
        "    pass\n",
        "\n",
        "class D(B, C):\n",
        "    pass\n",
        "\n",
        "print(D.__mro__)\n",
        "\n",
        "print(D.mro())"
      ],
      "metadata": {
        "colab": {
          "base_uri": "https://localhost:8080/"
        },
        "id": "_34xxoGkOVhc",
        "outputId": "76f568a0-94e6-4f2a-9288-429ac6687d15"
      },
      "execution_count": 20,
      "outputs": [
        {
          "output_type": "stream",
          "name": "stdout",
          "text": [
            "(<class '__main__.D'>, <class '__main__.B'>, <class '__main__.C'>, <class '__main__.A'>, <class 'object'>)\n",
            "[<class '__main__.D'>, <class '__main__.B'>, <class '__main__.C'>, <class '__main__.A'>, <class 'object'>]\n"
          ]
        }
      ]
    },
    {
      "cell_type": "markdown",
      "source": [
        "## Why MRO is Important:-\n",
        "\n",
        "##* Avoids Ambiguity: In complex multiple inheritance hierarchies, MRO ensures that the method lookup order is well-defined and unambiguous.\n",
        "\n",
        "##* Solves Diamond Problem: In a \"diamond-shaped\" inheritance (where multiple classes inherit from the same parent), the MRO ensures that each class is only visited once.\n",
        "\n",
        "##Diamond Problem Example:-"
      ],
      "metadata": {
        "id": "8Q07kctCRM9M"
      }
    },
    {
      "cell_type": "code",
      "source": [
        "class A:\n",
        "  def method(self):\n",
        "    print(\"A\")\n",
        "\n",
        "class B(A):\n",
        "  def method(self):\n",
        "    print(\"B\")\n",
        "    super().method()\n",
        "\n",
        "class C(A):\n",
        "  def method(self):\n",
        "    print(\"C\")\n",
        "    super().method()\n",
        "\n",
        "class D(B, C):\n",
        "  def method(self):\n",
        "    print(\"D\")\n",
        "    super().method()\n",
        "    C.method(self)\n",
        "    B.method(self)\n",
        "\n",
        "d = D()\n",
        "print(d.method())\n",
        "print(D.mro())\n"
      ],
      "metadata": {
        "colab": {
          "base_uri": "https://localhost:8080/"
        },
        "id": "RfXCY1rwQ1-9",
        "outputId": "4e49230a-f204-4cd7-b7aa-6e620da47ca2"
      },
      "execution_count": 24,
      "outputs": [
        {
          "output_type": "stream",
          "name": "stdout",
          "text": [
            "D\n",
            "B\n",
            "C\n",
            "A\n",
            "C\n",
            "A\n",
            "B\n",
            "C\n",
            "A\n",
            "None\n",
            "[<class '__main__.D'>, <class '__main__.B'>, <class '__main__.C'>, <class '__main__.A'>, <class 'object'>]\n"
          ]
        }
      ]
    },
    {
      "cell_type": "markdown",
      "source": [
        "---------------------------------------------------------------------------------------------------------------------------------------------------"
      ],
      "metadata": {
        "id": "fYBsHxmJSOhR"
      }
    },
    {
      "cell_type": "markdown",
      "source": [
        "##Q8. Create an abstract base class 'Shape' with an abstract method 'area()'. Then create two subclasses 'Circle' and 'Rectangle' that implement the area() method."
      ],
      "metadata": {
        "id": "iJUs9R-CSOYZ"
      }
    },
    {
      "cell_type": "markdown",
      "source": [
        "##Ans. To create an abstract base class in Python, we use the ABC (Abstract Base Class) module and the @abstractmethod decorator from the abc module. An abstract class cannot be instantiated directly, and any class inheriting from it must implement its abstract methods.\n",
        "\n",
        "##Here's how you can define the Shape abstract class with the area() method and then implement Circle and Rectangle subclasses:\n",
        "\n",
        "##Example:-"
      ],
      "metadata": {
        "id": "trDrZRoHSOPy"
      }
    },
    {
      "cell_type": "code",
      "source": [
        "from abc import ABC, abstractmethod\n",
        "\n",
        "class Shape(ABC):\n",
        "    @abstractmethod\n",
        "    def area(self):\n",
        "        pass\n",
        "\n",
        "class Circle(Shape):\n",
        "    def __init__(self, radius):\n",
        "        self.radius = radius\n",
        "\n",
        "    def area(self):\n",
        "        return 3.14 * self.radius * self.radius\n",
        "\n",
        "class Rectangle(Shape):\n",
        "    def __init__(self, length, width):\n",
        "        self.length = length\n",
        "        self.width = width\n",
        "\n",
        "    def area(self):\n",
        "        return self.length * self.width\n",
        "\n",
        "circle = Circle(25)\n",
        "rectangle = Rectangle(7, 9)\n",
        "\n",
        "print(circle.area())\n",
        "print(rectangle.area())"
      ],
      "metadata": {
        "colab": {
          "base_uri": "https://localhost:8080/"
        },
        "id": "Xg1J7Q9vRr1i",
        "outputId": "757208f3-7721-48e0-ef8f-7bc98bc26c1b"
      },
      "execution_count": 27,
      "outputs": [
        {
          "output_type": "stream",
          "name": "stdout",
          "text": [
            "1962.5\n",
            "63\n"
          ]
        }
      ]
    },
    {
      "cell_type": "markdown",
      "source": [
        "------------------------------------------------------------------------------------------------------------------------------------------------"
      ],
      "metadata": {
        "id": "exzoVxLZUBTJ"
      }
    },
    {
      "cell_type": "markdown",
      "source": [
        "##Q9. Demonstrate polymorphism by creating a function that can work with different shape objects to calculate and print their areas."
      ],
      "metadata": {
        "id": "DWzf_GP4UBDY"
      }
    },
    {
      "cell_type": "markdown",
      "source": [
        "##Ans. Polymorphism allows objects of different classes to be treated as objects of a common superclass. In this case, we can use polymorphism to create a function that works with any subclass of the Shape class to calculate and print their areas, even though the exact implementation of the area() method differs between each shape.\n",
        "\n",
        "##Example of Polymorphism with Shapes:-"
      ],
      "metadata": {
        "id": "ijGHtevuUA6c"
      }
    },
    {
      "cell_type": "code",
      "source": [
        "from abc import ABC, abstractmethod\n",
        "import math\n",
        "\n",
        "# Abstract base class\n",
        "class Shape(ABC):\n",
        "    @abstractmethod\n",
        "    def area(self):\n",
        "        pass\n",
        "\n",
        "# Circle subclass\n",
        "class Circle(Shape):\n",
        "    def __init__(self, radius):\n",
        "        self.radius = radius\n",
        "\n",
        "    def area(self):\n",
        "        return math.pi * self.radius ** 2\n",
        "\n",
        "# Rectangle subclass\n",
        "class Rectangle(Shape):\n",
        "    def __init__(self, width, height):\n",
        "        self.width = width\n",
        "        self.height = height\n",
        "\n",
        "    def area(self):\n",
        "        return self.width * self.height\n",
        "\n",
        "# Function demonstrating polymorphism\n",
        "def print_area(shape: Shape):\n",
        "    print(f\"The area is: {shape.area():.2f}\")\n",
        "\n",
        "# Example usage\n",
        "circle = Circle(19)\n",
        "rectangle = Rectangle(7, 9)\n",
        "\n",
        "# Calling the same function for different shapes\n",
        "print_area(circle)      # Outputs the area of the circle\n",
        "print_area(rectangle)   # Outputs the area of the rectangle"
      ],
      "metadata": {
        "colab": {
          "base_uri": "https://localhost:8080/"
        },
        "id": "0o3Cwo2STMTe",
        "outputId": "3fc34e81-c6f4-448c-e94f-78880e69f545"
      },
      "execution_count": 30,
      "outputs": [
        {
          "output_type": "stream",
          "name": "stdout",
          "text": [
            "The area is: 1134.11\n",
            "The area is: 63.00\n"
          ]
        }
      ]
    },
    {
      "cell_type": "markdown",
      "source": [
        "--------------------------------------------------------------------------------------------------------------------------------------------------"
      ],
      "metadata": {
        "id": "wi3RXyFvUvQy"
      }
    },
    {
      "cell_type": "markdown",
      "source": [
        "##Q10. Implement encapsulation in a 'Bank Account' class with private attributes for 'balance' and 'account_number'. Include methods for deposit, withdrawal, and balance inquiry."
      ],
      "metadata": {
        "id": "5Zmesh3FUvCG"
      }
    },
    {
      "cell_type": "markdown",
      "source": [
        "##Ans. Encapsulation in Python is achieved by making class attributes private and controlling access to them using methods. Private attributes are denoted by a double underscore (__), and methods provide controlled access to these attributes.\n",
        "\n",
        "##Here’s an implementation of a BankAccount class with encapsulation:\n",
        "\n",
        "##Example:-"
      ],
      "metadata": {
        "id": "X9qZx1A1Uu_m"
      }
    },
    {
      "cell_type": "code",
      "source": [
        "class BankAccount:\n",
        "    def __init__(self, account_number, initial_balance=0):\n",
        "        # Private attributes\n",
        "        self.__account_number = account_number\n",
        "        self.__balance = initial_balance\n",
        "\n",
        "    # Method to deposit money\n",
        "    def deposit(self, amount):\n",
        "        if amount > 0:\n",
        "            self.__balance += amount\n",
        "            print(f\"Deposited: ${amount:.2f}\")\n",
        "        else:\n",
        "            print(\"Deposit amount must be positive.\")\n",
        "\n",
        "    # Method to withdraw money\n",
        "    def withdraw(self, amount):\n",
        "        if 0 < amount <= self.__balance:\n",
        "            self.__balance -= amount\n",
        "            print(f\"Withdrawn: ${amount:.2f}\")\n",
        "        elif amount > self.__balance:\n",
        "            print(\"Insufficient balance.\")\n",
        "        else:\n",
        "            print(\"Withdrawal amount must be positive.\")\n",
        "\n",
        "    # Method to inquire the balance\n",
        "    def get_balance(self):\n",
        "        return self.__balance\n",
        "\n",
        "    # Method to get account number (optional)\n",
        "    def get_account_number(self):\n",
        "        return self.__account_number\n",
        "\n",
        "# Example usage\n",
        "account = BankAccount(\"12345678\", 1000)\n",
        "\n",
        "# Depositing money\n",
        "account.deposit(500)\n",
        "\n",
        "# Withdrawing money\n",
        "account.withdraw(300)\n",
        "account.withdraw(1500)\n",
        "\n",
        "# Checking balance\n",
        "print(f\"Balance: ${account.get_balance():.2f}\")\n",
        "\n",
        "# Accessing the account number\n",
        "print(f\"Account Number: {account.get_account_number()}\")"
      ],
      "metadata": {
        "colab": {
          "base_uri": "https://localhost:8080/"
        },
        "id": "jUzshbCcXkHL",
        "outputId": "55323aa3-d505-4c73-e252-08a6d0b1f042"
      },
      "execution_count": 32,
      "outputs": [
        {
          "output_type": "stream",
          "name": "stdout",
          "text": [
            "Deposited: $500.00\n",
            "Withdrawn: $300.00\n",
            "Insufficient balance.\n",
            "Balance: $1200.00\n",
            "Account Number: 12345678\n"
          ]
        }
      ]
    },
    {
      "cell_type": "markdown",
      "source": [
        "------------------------------------------------------------------------------------------------------------------------------------------------"
      ],
      "metadata": {
        "id": "6SBvGslXYOZn"
      }
    },
    {
      "cell_type": "markdown",
      "source": [
        "##Q11. Write a class that overrides the '______str__' and '______add__' magic methods. What will these methods allow you to do?"
      ],
      "metadata": {
        "id": "_FOHAUMrYONw"
      }
    },
    {
      "cell_type": "markdown",
      "source": [
        "##Ans. In Python, magic methods (also known as dunder methods, since they have double underscores) allow classes to implement and customize built-in behaviors. Two commonly overridden magic methods are __str__ and __add__:\n",
        "\n",
        "##* __str__(self): Defines the behavior of the str() function or when print() is called on an instance. It should return a user-friendly string representation of the object.\n",
        "\n",
        "##* __add__(self, other): Defines the behavior of the + operator when used with instances of the class. It allows instances to be added together, specifying how the addition should behave.\n",
        "\n",
        "##Example Class that Overrides __str__ and __add__:-"
      ],
      "metadata": {
        "id": "TKEI8ZhVaPVP"
      }
    },
    {
      "cell_type": "code",
      "source": [
        "class Book:\n",
        "    def __init__(self, title, author, pages):\n",
        "        self.title = title\n",
        "        self.author = author\n",
        "        self.pages = pages\n",
        "\n",
        "    # Overriding the __str__ method\n",
        "    def __str__(self):\n",
        "        return f\"'{self.title}' by {self.author}, {self.pages} pages\"\n",
        "\n",
        "    # Overriding the __add__ method\n",
        "    def __add__(self, other):\n",
        "        if isinstance(other, Book):\n",
        "            return self.pages + other.pages\n",
        "        return NotImplemented\n",
        "\n",
        "# Example:-\n",
        "book1 = Book(\"The Great Gatsby\", \"F. Scott Fitzgerald\", 180)\n",
        "book2 = Book(\"1984\", \"George Orwell\", 328)\n",
        "\n",
        "# Using the __str__ method\n",
        "print(book1)\n",
        "\n",
        "# Using the __add__ method\n",
        "total_pages = book1 + book2\n",
        "print(f\"Total pages: {total_pages}\")"
      ],
      "metadata": {
        "colab": {
          "base_uri": "https://localhost:8080/"
        },
        "id": "bZhfBnGKYBLs",
        "outputId": "9e74a8cc-2c90-4732-dc0c-f57d4a2c8d53"
      },
      "execution_count": 35,
      "outputs": [
        {
          "output_type": "stream",
          "name": "stdout",
          "text": [
            "'The Great Gatsby' by F. Scott Fitzgerald, 180 pages\n",
            "Total pages: 508\n"
          ]
        }
      ]
    },
    {
      "cell_type": "markdown",
      "source": [
        "##Benefits of Overriding These Methods:\n",
        "\n",
        "##* __str__: Customizing how objects are represented when printed or converted to a string makes debugging easier and improves readability for users.\n",
        "\n",
        "##* __add__: Overriding __add__ provides more intuitive behavior for addition (or other operations) between objects, allowing operators like + to be used with class instances naturally."
      ],
      "metadata": {
        "id": "Lgn46tX_cJiK"
      }
    },
    {
      "cell_type": "markdown",
      "source": [
        "-------------------------------------------------------------------------------------------------------------------------------------------------"
      ],
      "metadata": {
        "id": "RpZHrAQWdQqL"
      }
    },
    {
      "cell_type": "markdown",
      "source": [
        "##Q12. Create a decorator that measures and prints the execution time of a function."
      ],
      "metadata": {
        "id": "aDQb4lNbdQg9"
      }
    },
    {
      "cell_type": "markdown",
      "source": [
        "##Ans. A decorator in Python can be used to measure the execution time of a function by wrapping the original function with additional logic to capture and print the time it takes for the function to run.\n",
        "\n",
        "##Here’s how you can create a decorator that measures and prints the execution time of any function:\n",
        "\n",
        "##Example:-"
      ],
      "metadata": {
        "id": "491RX26UdQXV"
      }
    },
    {
      "cell_type": "code",
      "source": [
        "import time\n",
        "from functools import wraps\n",
        "\n",
        "def execution_time(func):\n",
        "    @wraps(func)\n",
        "    def wrapper(*args, **kwargs):\n",
        "        start_time = time.time()\n",
        "        result = func(*args, **kwargs)\n",
        "        end_time = time.time()\n",
        "        execution_time = end_time - start_time\n",
        "        print(f\"Execution time of {func.__name__}: {execution_time:.5f} seconds\")\n",
        "        return result\n",
        "    return wrapper\n",
        "\n",
        "    # Decorated function\n",
        "@execution_time\n",
        "def my_function():\n",
        "    time.sleep(2)\n",
        "\n",
        "# Calling the decorated function\n",
        "my_function()"
      ],
      "metadata": {
        "colab": {
          "base_uri": "https://localhost:8080/"
        },
        "id": "S6JxQ6CTb_Oe",
        "outputId": "25e0e737-1146-47b5-cba8-aacb206abb6b"
      },
      "execution_count": 36,
      "outputs": [
        {
          "output_type": "stream",
          "name": "stdout",
          "text": [
            "Execution time of my_function: 2.00214 seconds\n"
          ]
        }
      ]
    },
    {
      "cell_type": "markdown",
      "source": [
        "------------------------------------------------------------------------------------------------------------------------------------------------"
      ],
      "metadata": {
        "id": "0y9zkNULeZWK"
      }
    },
    {
      "cell_type": "markdown",
      "source": [
        "##Q13. Explain the concept of the Diamond Problem in multiple inheritance. How does Python resolve it?"
      ],
      "metadata": {
        "id": "tEJQCodPeZK-"
      }
    },
    {
      "cell_type": "markdown",
      "source": [
        "##Ans. The Diamond Problem in Multiple Inheritance\n",
        "\n",
        "##The Diamond Problem occurs in languages that support multiple inheritance (like Python). It arises when a class inherits from two or more classes that share a common ancestor, forming a diamond shape in the class hierarchy.\n",
        "\n",
        "##Here’s a simplified diagram of the diamond problem:-"
      ],
      "metadata": {
        "id": "1NZxIjBgeZBF"
      }
    },
    {
      "cell_type": "markdown",
      "source": [
        "      A\n",
        "     / \\\n",
        "    B   C\n",
        "     \\ /\n",
        "      D\n",
        "##* Class A is the common ancestor (base class).\n",
        "\n",
        "##* Classes B and C both inherit from A.\n",
        "\n",
        "##* Class D inherits from both B and C.\n",
        "\n",
        "##The problem arises when D tries to access a method or attribute defined in A. Since both B and C inherit from A, it is unclear whether D should inherit the method from B's version of A, C's version of A, or directly from A itself.\n",
        "\n",
        "##Example of the Diamond Problem:-"
      ],
      "metadata": {
        "id": "RgYTOBThfAC4"
      }
    },
    {
      "cell_type": "code",
      "source": [
        "class A:\n",
        "  def speak(self):\n",
        "    return \"Speaking from A\"\n",
        "\n",
        "class B(A):\n",
        "  def speak(self):\n",
        "    return \"Speaking from B\"\n",
        "\n",
        "class C(A):\n",
        "  def speak(self):\n",
        "    return \"Speaking from C\"\n",
        "\n",
        "class D(B, C):\n",
        "  def speak(self):\n",
        "    return \"Speaking from D\"\n",
        "\n",
        "d = D()\n",
        "print(d.speak())"
      ],
      "metadata": {
        "colab": {
          "base_uri": "https://localhost:8080/"
        },
        "id": "eT4grd4He-FT",
        "outputId": "e25df605-ab37-4e32-b714-7d8301f55141"
      },
      "execution_count": 40,
      "outputs": [
        {
          "output_type": "stream",
          "name": "stdout",
          "text": [
            "Speaking from D\n"
          ]
        }
      ]
    },
    {
      "cell_type": "markdown",
      "source": [
        "##How Python Resolves the Diamond Problem (Method Resolution Order - MRO)\n",
        "\n",
        "##Python uses Method Resolution Order (MRO) to resolve the Diamond Problem. The MRO defines the order in which Python looks for methods in the presence of multiple inheritance. It follows the C3 Linearization Algorithm to determine a consistent and well-defined order.\n",
        "\n",
        "##In the example above, Python will follow the MRO, which can be seen by calling the mro() method or accessing the __mro__ attribute.\n",
        "\n",
        "##Example of MRO Resolution:"
      ],
      "metadata": {
        "id": "P8z5O2udgHRK"
      }
    },
    {
      "cell_type": "code",
      "source": [
        "print(D.mro())"
      ],
      "metadata": {
        "colab": {
          "base_uri": "https://localhost:8080/"
        },
        "id": "efkZgb1FfuHU",
        "outputId": "d9ca4ef5-32a8-4f05-d09e-66d5b420c2fc"
      },
      "execution_count": 41,
      "outputs": [
        {
          "output_type": "stream",
          "name": "stdout",
          "text": [
            "[<class '__main__.D'>, <class '__main__.B'>, <class '__main__.C'>, <class '__main__.A'>, <class 'object'>]\n"
          ]
        }
      ]
    },
    {
      "cell_type": "markdown",
      "source": [
        "##This means:\n",
        "\n",
        "##1. Python will first look for speak() in D.\n",
        "\n",
        "##2. If not found, it will check B (since B comes before C in the inheritance list for D).\n",
        "\n",
        "##3. Then it will check C.\n",
        "\n",
        "##4. Finally, it will check A.\n",
        "\n",
        "##So, in the example, d.speak() will call B's version of the method because B comes before C in the MRO.\n",
        "\n",
        "##Python's MRO in Action:-"
      ],
      "metadata": {
        "id": "MdRTZvT6giOx"
      }
    },
    {
      "cell_type": "code",
      "source": [
        "class A:\n",
        "    def speak(self):\n",
        "        return \"Speaking from A\"\n",
        "\n",
        "class B(A):\n",
        "    def speak(self):\n",
        "        return \"Speaking from B\"\n",
        "\n",
        "class C(A):\n",
        "    def speak(self):\n",
        "        return \"Speaking from C\"\n",
        "\n",
        "class D(B, C):\n",
        "    pass\n",
        "\n",
        "# Example:-\n",
        "d = D()\n",
        "print(d.speak())"
      ],
      "metadata": {
        "colab": {
          "base_uri": "https://localhost:8080/"
        },
        "id": "TZjSGY4sgeZv",
        "outputId": "f8a87253-0609-4b8a-b871-0c0596597d2b"
      },
      "execution_count": 43,
      "outputs": [
        {
          "output_type": "stream",
          "name": "stdout",
          "text": [
            "Speaking from B\n"
          ]
        }
      ]
    },
    {
      "cell_type": "markdown",
      "source": [
        "-------------------------------------------------------------------------------------------------------------------------------------------------"
      ],
      "metadata": {
        "id": "MX0ejfTSg9-W"
      }
    },
    {
      "cell_type": "markdown",
      "source": [
        "##Q14. Write a class method that keeps track of the number of instances created from a class."
      ],
      "metadata": {
        "id": "XXDrja-hg90Q"
      }
    },
    {
      "cell_type": "markdown",
      "source": [
        "##Ans. To keep track of the number of instances created from a class, you can use a class attribute that is shared among all instances. A class method (using the @classmethod decorator) will interact with the class attribute to increment and access this count.\n",
        "\n",
        "##Example:-"
      ],
      "metadata": {
        "id": "cDCSL5sng9so"
      }
    },
    {
      "cell_type": "code",
      "source": [
        "class InstanceCounter:\n",
        "    count = 0\n",
        "\n",
        "    def __init__(self):\n",
        "        InstanceCounter.count += 1\n",
        "\n",
        "    @classmethod\n",
        "    def get_instance_count(cls):\n",
        "        return cls.count\n",
        "\n",
        "# Creating instances\n",
        "instance1 = InstanceCounter()\n",
        "instance2 = InstanceCounter()\n",
        "instance3 = InstanceCounter()\n",
        "\n",
        "# Accessing the class attribute\n",
        "print(f\"Number of instances created: {InstanceCounter.get_instance_count()}\")"
      ],
      "metadata": {
        "colab": {
          "base_uri": "https://localhost:8080/"
        },
        "id": "t0mnqqJwgzUH",
        "outputId": "13c7a7f6-6780-4170-d100-8ecebaf9b526"
      },
      "execution_count": 45,
      "outputs": [
        {
          "output_type": "stream",
          "name": "stdout",
          "text": [
            "Number of instances created: 3\n"
          ]
        }
      ]
    },
    {
      "cell_type": "markdown",
      "source": [
        "----------------------------------------------------------------------------------------------------------------------------------------------------"
      ],
      "metadata": {
        "id": "74hGzajTi0st"
      }
    },
    {
      "cell_type": "markdown",
      "source": [
        "##Q15. Implement a static method in a class that checks if a given year is a leap year."
      ],
      "metadata": {
        "id": "bKuxDg8ci0im"
      }
    },
    {
      "cell_type": "markdown",
      "source": [
        "##Ans. A static method in Python is a method that does not operate on class or instance data and is typically used for utility functions. You can use the @staticmethod decorator to define it. In this case, we’ll create a static method in a class to check whether a given year is a leap year.\n",
        "\n",
        "##Example:-"
      ],
      "metadata": {
        "id": "DNgAZ-uPi0ZP"
      }
    },
    {
      "cell_type": "code",
      "source": [
        "class DateUtils:\n",
        "    @staticmethod\n",
        "    def is_leap_year(year):\n",
        "        if (year % 4 == 0 and year % 100 != 0) or (year % 400 == 0):\n",
        "            return True\n",
        "        return False\n",
        "\n",
        "print(DateUtils.is_leap_year(2020))\n",
        "print(DateUtils.is_leap_year(2021))\n",
        "print(DateUtils.is_leap_year(1900))\n",
        "print(DateUtils.is_leap_year(2000))"
      ],
      "metadata": {
        "colab": {
          "base_uri": "https://localhost:8080/"
        },
        "id": "45ZDvx7oiXvC",
        "outputId": "f1333fbc-0086-4e20-d5cc-d0b55b7ab3ae"
      },
      "execution_count": 50,
      "outputs": [
        {
          "output_type": "stream",
          "name": "stdout",
          "text": [
            "True\n",
            "False\n",
            "False\n",
            "True\n"
          ]
        }
      ]
    },
    {
      "cell_type": "markdown",
      "source": [
        "----------------------------------------------------------------------------------------------------------------------------------------------------"
      ],
      "metadata": {
        "id": "8RXWDrm9j7Dv"
      }
    },
    {
      "cell_type": "markdown",
      "source": [
        "#Thank You"
      ],
      "metadata": {
        "id": "8XKXsvzSji8i"
      }
    }
  ]
}